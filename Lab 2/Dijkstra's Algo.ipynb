{
 "cells": [
  {
   "cell_type": "markdown",
   "id": "cf1e40c4-0377-4ab8-bbc3-8f332e1da399",
   "metadata": {},
   "source": [
    "# Function to generate random Adjacency Matrix "
   ]
  },
  {
   "cell_type": "code",
   "execution_count": 35,
   "id": "8d7ccf92-8c46-4ca6-a426-f5799c17e520",
   "metadata": {},
   "outputs": [],
   "source": [
    "import random\n",
    "import copy\n",
    "\n",
    "class Graph_AdjacencyMatrix():\n",
    "    def __init__(self, vertex, edge):\n",
    "        self.vertex = vertex\n",
    "        self.edge = edge\n",
    "        self.matrix = [[0 for _ in range(vertex)] for _ in range(vertex)]  # Initialize the adjacency matrix\n",
    "        self.generate_adjacency_matrix()\n",
    "\n",
    "    def generate_adjacency_matrix(self):\n",
    "        edges_added = 0\n",
    "        \n",
    "        while edges_added < self.edge:\n",
    "            # Randomly select two vertices to create an edge between them\n",
    "            v1 = random.randint(0, self.vertex - 1)\n",
    "            v2 = random.randint(0, self.vertex - 1)\n",
    "\n",
    "            # Ensure that we are not placing an edge in the same place or repeating an edge\n",
    "            if v1 != v2 and self.matrix[v1][v2] == 0:\n",
    "                weight = random.randint(1, 10)  # Random weight between 1 and 10\n",
    "                self.matrix[v1][v2] = weight\n",
    "                self.matrix[v2][v1] = weight  # Since the graph is undirected\n",
    "                edges_added += 1\n",
    "\n",
    "    def display_matrix(self):\n",
    "        for row in self.matrix:\n",
    "            print(row)\n",
    "\n",
    "    def copy(self):\n",
    "        # Create a deep copy of the entire object, not just the matrix\n",
    "        graph_copy = Graph_AdjacencyMatrix(self.vertex, self.edge)  # Create a new instance\n",
    "        graph_copy.matrix = copy.deepcopy(self.matrix)  # Deep copy the adjacency matrix\n",
    "        return graph_copy\n"
   ]
  },
  {
   "cell_type": "markdown",
   "id": "f9a3f34c-80ad-406a-9b7a-4388ff2350ba",
   "metadata": {},
   "source": [
    "# Dijkstra algo using Priority Queue of array"
   ]
  },
  {
   "cell_type": "code",
   "execution_count": 27,
   "id": "1682485a-6dc2-4ba6-bcc2-98aceda740ae",
   "metadata": {},
   "outputs": [],
   "source": [
    "def quickSort(arr, start, end):\n",
    "    if start >= end:\n",
    "        return\n",
    "\n",
    "    pivot_pos = partition(arr, start,end)\n",
    "    quickSort(arr, start, pivot_pos - 1)\n",
    "    quickSort(arr, pivot_pos + 1, end)\n",
    "\n",
    "def partition(arr, low, high):\n",
    "    mid = (low + high) // 2\n",
    "    swap(arr, low, mid)\n",
    "    pivot = arr[low]\n",
    "    last_small = low\n",
    "\n",
    "    for i in range(low+1, high+1):\n",
    "        if (arr[i] < pivot):\n",
    "            last_small += 1\n",
    "            swap(arr, last_small, i)\n",
    "    swap(arr, low, last_small)\n",
    "    return last_small\n",
    "\n",
    "\n",
    "def swap(arr, a, b):\n",
    "    temp = arr[a]\n",
    "    arr[a] = arr[b]\n",
    "    arr[b] = temp"
   ]
  },
  {
   "cell_type": "code",
   "execution_count": 47,
   "id": "c6d8d717-1ab2-43d0-970e-f371b4c9a393",
   "metadata": {},
   "outputs": [
    {
     "name": "stdout",
     "output_type": "stream",
     "text": [
      "[(0, 10000), (1, 10000), (2, 10000), (3, 10000), (4, 10000)]\n",
      "[(0, 0), (1, 10000), (2, 10000), (3, 10000), (4, 10000)]\n"
     ]
    }
   ],
   "source": [
    "distance = []\n",
    "graph = Graph_AdjacencyMatrix(5,6)\n",
    "for i in range(graph.vertex):\n",
    "    distance.append((i, 10_000))\n",
    "\n",
    "print(distance)\n",
    "distance[0] = (0, 0)\n",
    "print(distance)\n",
    "\n",
    "#graph.display_matrix()"
   ]
  },
  {
   "cell_type": "code",
   "execution_count": null,
   "id": "3e6e2962-06d5-4830-a6bf-4b2e026f311f",
   "metadata": {},
   "outputs": [],
   "source": []
  },
  {
   "cell_type": "markdown",
   "id": "e36d5100-aad6-401b-a26c-baea7e1eb43f",
   "metadata": {},
   "source": [
    "# Dijkstra algo using heap"
   ]
  },
  {
   "cell_type": "code",
   "execution_count": 15,
   "id": "dabfdec2-084b-41ba-84cb-67590c6aac29",
   "metadata": {},
   "outputs": [],
   "source": []
  }
 ],
 "metadata": {
  "kernelspec": {
   "display_name": "Python 3 (ipykernel)",
   "language": "python",
   "name": "python3"
  },
  "language_info": {
   "codemirror_mode": {
    "name": "ipython",
    "version": 3
   },
   "file_extension": ".py",
   "mimetype": "text/x-python",
   "name": "python",
   "nbconvert_exporter": "python",
   "pygments_lexer": "ipython3",
   "version": "3.11.7"
  }
 },
 "nbformat": 4,
 "nbformat_minor": 5
}
